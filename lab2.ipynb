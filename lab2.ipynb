{
 "cells": [
  {
   "cell_type": "code",
   "execution_count": 281,
   "metadata": {
    "colab": {
     "base_uri": "https://localhost:8080/",
     "height": 475
    },
    "id": "J-loQwkGKWrS",
    "outputId": "2326fa0a-b96f-4660-9f70-d1cd01b4756b"
   },
   "outputs": [
    {
     "data": {
      "text/html": [
       "<div>\n",
       "<style scoped>\n",
       "    .dataframe tbody tr th:only-of-type {\n",
       "        vertical-align: middle;\n",
       "    }\n",
       "\n",
       "    .dataframe tbody tr th {\n",
       "        vertical-align: top;\n",
       "    }\n",
       "\n",
       "    .dataframe thead th {\n",
       "        text-align: right;\n",
       "    }\n",
       "</style>\n",
       "<table border=\"1\" class=\"dataframe\">\n",
       "  <thead>\n",
       "    <tr style=\"text-align: right;\">\n",
       "      <th></th>\n",
       "      <th>Unnamed: 0</th>\n",
       "      <th>STT</th>\n",
       "      <th>T1</th>\n",
       "      <th>L1</th>\n",
       "      <th>H1</th>\n",
       "      <th>S1</th>\n",
       "      <th>V1</th>\n",
       "      <th>X1</th>\n",
       "      <th>D1</th>\n",
       "      <th>N1</th>\n",
       "      <th>...</th>\n",
       "      <th>TBM1</th>\n",
       "      <th>TBM2</th>\n",
       "      <th>TBM3</th>\n",
       "      <th>XL1</th>\n",
       "      <th>XL2</th>\n",
       "      <th>XL3</th>\n",
       "      <th>US_TBM1</th>\n",
       "      <th>US_TBM2</th>\n",
       "      <th>US_TBM3</th>\n",
       "      <th>KQXT</th>\n",
       "    </tr>\n",
       "  </thead>\n",
       "  <tbody>\n",
       "    <tr>\n",
       "      <th>0</th>\n",
       "      <td>0</td>\n",
       "      <td>1</td>\n",
       "      <td>7.2</td>\n",
       "      <td>7.3</td>\n",
       "      <td>6.3</td>\n",
       "      <td>7.3</td>\n",
       "      <td>7.0</td>\n",
       "      <td>7.9</td>\n",
       "      <td>7.3</td>\n",
       "      <td>5.5</td>\n",
       "      <td>...</td>\n",
       "      <td>7.00</td>\n",
       "      <td>7.54</td>\n",
       "      <td>7.01</td>\n",
       "      <td>K</td>\n",
       "      <td>K</td>\n",
       "      <td>K</td>\n",
       "      <td>2.800</td>\n",
       "      <td>3.016</td>\n",
       "      <td>2.804</td>\n",
       "      <td>0.0</td>\n",
       "    </tr>\n",
       "    <tr>\n",
       "      <th>1</th>\n",
       "      <td>1</td>\n",
       "      <td>2</td>\n",
       "      <td>5.4</td>\n",
       "      <td>3.9</td>\n",
       "      <td>3.9</td>\n",
       "      <td>4.0</td>\n",
       "      <td>5.4</td>\n",
       "      <td>5.4</td>\n",
       "      <td>5.3</td>\n",
       "      <td>2.8</td>\n",
       "      <td>...</td>\n",
       "      <td>4.69</td>\n",
       "      <td>5.47</td>\n",
       "      <td>5.07</td>\n",
       "      <td>Y</td>\n",
       "      <td>TB</td>\n",
       "      <td>TB</td>\n",
       "      <td>1.876</td>\n",
       "      <td>2.188</td>\n",
       "      <td>2.028</td>\n",
       "      <td>0.0</td>\n",
       "    </tr>\n",
       "    <tr>\n",
       "      <th>2</th>\n",
       "      <td>2</td>\n",
       "      <td>3</td>\n",
       "      <td>5.6</td>\n",
       "      <td>6.8</td>\n",
       "      <td>7.2</td>\n",
       "      <td>7.5</td>\n",
       "      <td>4.3</td>\n",
       "      <td>7.4</td>\n",
       "      <td>5.8</td>\n",
       "      <td>3.2</td>\n",
       "      <td>...</td>\n",
       "      <td>5.77</td>\n",
       "      <td>5.38</td>\n",
       "      <td>6.04</td>\n",
       "      <td>TB</td>\n",
       "      <td>TB</td>\n",
       "      <td>TB</td>\n",
       "      <td>2.308</td>\n",
       "      <td>2.152</td>\n",
       "      <td>2.416</td>\n",
       "      <td>1.0</td>\n",
       "    </tr>\n",
       "    <tr>\n",
       "      <th>3</th>\n",
       "      <td>3</td>\n",
       "      <td>4</td>\n",
       "      <td>6.6</td>\n",
       "      <td>6.4</td>\n",
       "      <td>5.3</td>\n",
       "      <td>6.9</td>\n",
       "      <td>5.4</td>\n",
       "      <td>7.3</td>\n",
       "      <td>6.4</td>\n",
       "      <td>5.8</td>\n",
       "      <td>...</td>\n",
       "      <td>6.21</td>\n",
       "      <td>5.20</td>\n",
       "      <td>6.88</td>\n",
       "      <td>TB</td>\n",
       "      <td>TB</td>\n",
       "      <td>K</td>\n",
       "      <td>2.484</td>\n",
       "      <td>2.080</td>\n",
       "      <td>2.752</td>\n",
       "      <td>0.0</td>\n",
       "    </tr>\n",
       "    <tr>\n",
       "      <th>4</th>\n",
       "      <td>4</td>\n",
       "      <td>5</td>\n",
       "      <td>6.0</td>\n",
       "      <td>5.0</td>\n",
       "      <td>6.0</td>\n",
       "      <td>7.3</td>\n",
       "      <td>6.5</td>\n",
       "      <td>7.7</td>\n",
       "      <td>7.9</td>\n",
       "      <td>6.1</td>\n",
       "      <td>...</td>\n",
       "      <td>6.50</td>\n",
       "      <td>6.36</td>\n",
       "      <td>6.99</td>\n",
       "      <td>K</td>\n",
       "      <td>TB</td>\n",
       "      <td>K</td>\n",
       "      <td>2.600</td>\n",
       "      <td>2.544</td>\n",
       "      <td>2.796</td>\n",
       "      <td>0.0</td>\n",
       "    </tr>\n",
       "    <tr>\n",
       "      <th>...</th>\n",
       "      <td>...</td>\n",
       "      <td>...</td>\n",
       "      <td>...</td>\n",
       "      <td>...</td>\n",
       "      <td>...</td>\n",
       "      <td>...</td>\n",
       "      <td>...</td>\n",
       "      <td>...</td>\n",
       "      <td>...</td>\n",
       "      <td>...</td>\n",
       "      <td>...</td>\n",
       "      <td>...</td>\n",
       "      <td>...</td>\n",
       "      <td>...</td>\n",
       "      <td>...</td>\n",
       "      <td>...</td>\n",
       "      <td>...</td>\n",
       "      <td>...</td>\n",
       "      <td>...</td>\n",
       "      <td>...</td>\n",
       "      <td>...</td>\n",
       "    </tr>\n",
       "    <tr>\n",
       "      <th>95</th>\n",
       "      <td>95</td>\n",
       "      <td>96</td>\n",
       "      <td>8.6</td>\n",
       "      <td>6.9</td>\n",
       "      <td>7.4</td>\n",
       "      <td>8.8</td>\n",
       "      <td>7.6</td>\n",
       "      <td>5.8</td>\n",
       "      <td>7.3</td>\n",
       "      <td>5.7</td>\n",
       "      <td>...</td>\n",
       "      <td>7.43</td>\n",
       "      <td>7.42</td>\n",
       "      <td>6.83</td>\n",
       "      <td>K</td>\n",
       "      <td>K</td>\n",
       "      <td>K</td>\n",
       "      <td>2.972</td>\n",
       "      <td>2.968</td>\n",
       "      <td>2.732</td>\n",
       "      <td>0.0</td>\n",
       "    </tr>\n",
       "    <tr>\n",
       "      <th>96</th>\n",
       "      <td>96</td>\n",
       "      <td>97</td>\n",
       "      <td>3.7</td>\n",
       "      <td>5.4</td>\n",
       "      <td>6.0</td>\n",
       "      <td>5.1</td>\n",
       "      <td>5.5</td>\n",
       "      <td>3.9</td>\n",
       "      <td>6.1</td>\n",
       "      <td>4.4</td>\n",
       "      <td>...</td>\n",
       "      <td>4.93</td>\n",
       "      <td>5.15</td>\n",
       "      <td>6.39</td>\n",
       "      <td>Y</td>\n",
       "      <td>TB</td>\n",
       "      <td>TB</td>\n",
       "      <td>1.972</td>\n",
       "      <td>2.060</td>\n",
       "      <td>2.556</td>\n",
       "      <td>0.0</td>\n",
       "    </tr>\n",
       "    <tr>\n",
       "      <th>97</th>\n",
       "      <td>97</td>\n",
       "      <td>98</td>\n",
       "      <td>8.8</td>\n",
       "      <td>5.5</td>\n",
       "      <td>7.4</td>\n",
       "      <td>7.7</td>\n",
       "      <td>6.2</td>\n",
       "      <td>7.3</td>\n",
       "      <td>8.1</td>\n",
       "      <td>4.5</td>\n",
       "      <td>...</td>\n",
       "      <td>7.05</td>\n",
       "      <td>7.84</td>\n",
       "      <td>7.67</td>\n",
       "      <td>K</td>\n",
       "      <td>K</td>\n",
       "      <td>K</td>\n",
       "      <td>2.820</td>\n",
       "      <td>3.136</td>\n",
       "      <td>3.068</td>\n",
       "      <td>1.0</td>\n",
       "    </tr>\n",
       "    <tr>\n",
       "      <th>98</th>\n",
       "      <td>98</td>\n",
       "      <td>99</td>\n",
       "      <td>2.7</td>\n",
       "      <td>1.8</td>\n",
       "      <td>3.4</td>\n",
       "      <td>5.3</td>\n",
       "      <td>4.5</td>\n",
       "      <td>7.9</td>\n",
       "      <td>4.9</td>\n",
       "      <td>3.8</td>\n",
       "      <td>...</td>\n",
       "      <td>4.15</td>\n",
       "      <td>4.72</td>\n",
       "      <td>5.29</td>\n",
       "      <td>Y</td>\n",
       "      <td>Y</td>\n",
       "      <td>TB</td>\n",
       "      <td>1.660</td>\n",
       "      <td>1.888</td>\n",
       "      <td>2.116</td>\n",
       "      <td>0.0</td>\n",
       "    </tr>\n",
       "    <tr>\n",
       "      <th>99</th>\n",
       "      <td>99</td>\n",
       "      <td>100</td>\n",
       "      <td>4.1</td>\n",
       "      <td>5.2</td>\n",
       "      <td>4.9</td>\n",
       "      <td>5.3</td>\n",
       "      <td>5.5</td>\n",
       "      <td>5.4</td>\n",
       "      <td>7.2</td>\n",
       "      <td>5.4</td>\n",
       "      <td>...</td>\n",
       "      <td>5.26</td>\n",
       "      <td>5.72</td>\n",
       "      <td>5.85</td>\n",
       "      <td>TB</td>\n",
       "      <td>TB</td>\n",
       "      <td>TB</td>\n",
       "      <td>2.104</td>\n",
       "      <td>2.288</td>\n",
       "      <td>2.340</td>\n",
       "      <td>0.0</td>\n",
       "    </tr>\n",
       "  </tbody>\n",
       "</table>\n",
       "<p>100 rows × 67 columns</p>\n",
       "</div>"
      ],
      "text/plain": [
       "    Unnamed: 0  STT   T1   L1   H1   S1   V1   X1   D1   N1  ...  TBM1  TBM2  \\\n",
       "0            0    1  7.2  7.3  6.3  7.3  7.0  7.9  7.3  5.5  ...  7.00  7.54   \n",
       "1            1    2  5.4  3.9  3.9  4.0  5.4  5.4  5.3  2.8  ...  4.69  5.47   \n",
       "2            2    3  5.6  6.8  7.2  7.5  4.3  7.4  5.8  3.2  ...  5.77  5.38   \n",
       "3            3    4  6.6  6.4  5.3  6.9  5.4  7.3  6.4  5.8  ...  6.21  5.20   \n",
       "4            4    5  6.0  5.0  6.0  7.3  6.5  7.7  7.9  6.1  ...  6.50  6.36   \n",
       "..         ...  ...  ...  ...  ...  ...  ...  ...  ...  ...  ...   ...   ...   \n",
       "95          95   96  8.6  6.9  7.4  8.8  7.6  5.8  7.3  5.7  ...  7.43  7.42   \n",
       "96          96   97  3.7  5.4  6.0  5.1  5.5  3.9  6.1  4.4  ...  4.93  5.15   \n",
       "97          97   98  8.8  5.5  7.4  7.7  6.2  7.3  8.1  4.5  ...  7.05  7.84   \n",
       "98          98   99  2.7  1.8  3.4  5.3  4.5  7.9  4.9  3.8  ...  4.15  4.72   \n",
       "99          99  100  4.1  5.2  4.9  5.3  5.5  5.4  7.2  5.4  ...  5.26  5.72   \n",
       "\n",
       "    TBM3  XL1  XL2  XL3  US_TBM1  US_TBM2  US_TBM3  KQXT  \n",
       "0   7.01    K    K    K    2.800    3.016    2.804   0.0  \n",
       "1   5.07    Y   TB   TB    1.876    2.188    2.028   0.0  \n",
       "2   6.04   TB   TB   TB    2.308    2.152    2.416   1.0  \n",
       "3   6.88   TB   TB    K    2.484    2.080    2.752   0.0  \n",
       "4   6.99    K   TB    K    2.600    2.544    2.796   0.0  \n",
       "..   ...  ...  ...  ...      ...      ...      ...   ...  \n",
       "95  6.83    K    K    K    2.972    2.968    2.732   0.0  \n",
       "96  6.39    Y   TB   TB    1.972    2.060    2.556   0.0  \n",
       "97  7.67    K    K    K    2.820    3.136    3.068   1.0  \n",
       "98  5.29    Y    Y   TB    1.660    1.888    2.116   0.0  \n",
       "99  5.85   TB   TB   TB    2.104    2.288    2.340   0.0  \n",
       "\n",
       "[100 rows x 67 columns]"
      ]
     },
     "execution_count": 281,
     "metadata": {},
     "output_type": "execute_result"
    }
   ],
   "source": [
    "import statsmodels.api as sm\n",
    "import pandas as pd\n",
    "import numpy as np\n",
    "import matplotlib.pyplot as plt\n",
    "df=pd.read_csv(r'C:\\Users\\Thai Anh\\Downloads\\processed_dulieuxettuyendaihoc.csv')\n",
    "df"
   ]
  },
  {
   "cell_type": "code",
   "execution_count": 282,
   "metadata": {
    "colab": {
     "base_uri": "https://localhost:8080/"
    },
    "id": "s8D8nVT3LN3Q",
    "outputId": "92f2190c-7ef0-45a4-ba28-f60d04aea9b5"
   },
   "outputs": [
    {
     "name": "stdout",
     "output_type": "stream",
     "text": [
      "     T1   DH1\n",
      "53  4.9  1.00\n",
      "43  6.6  1.25\n",
      "72  5.5  1.50\n",
      "5   9.3  1.50\n",
      "87  7.3  1.75\n",
      "..  ...   ...\n",
      "84  8.4  6.50\n",
      "11  7.9  6.75\n",
      "23  5.3  6.75\n",
      "24  2.4  7.00\n",
      "97  8.8  7.00\n",
      "\n",
      "[100 rows x 2 columns]\n"
     ]
    }
   ],
   "source": [
    "#phần 1\n",
    "#Phần 1: Thống kê dữ liệu\n",
    "#1. Hãy sắp xếp dữ liệu điểm DH1 theo thứ tự tăng dần\n",
    "#2. Hãy sắp xếp dữ liệu điểm DH2 tăng dần theo nhóm giới tính\n",
    "#3. Hãy tạo pivot-table để thống kê các giá trị count, sum, mean, median, min, max, sdt, Q1,\n",
    "#Q2 và Q3 của DH1 theo KT\n",
    "#4. Hãy tạo pivot-table để thống kê các giá trị count, sum, mean, median, min, max, sdt, Q1,\n",
    "#Q2 và Q3 của DH1 theo KT và KV\n",
    "#5. Hãy tạo pivot-table để thống kê các giá trị count, sum, mean, median, min, max, sdt, Q1,\n",
    "#Q2 và Q3 của DH1 theo KT, KV và DT\n",
    "df_sapxep_DH1=df.sort_values(by='DH1')\n",
    "print(df_sapxep_DH1[['T1','DH1']])"
   ]
  },
  {
   "cell_type": "code",
   "execution_count": 283,
   "metadata": {
    "colab": {
     "base_uri": "https://localhost:8080/"
    },
    "id": "NoNrbeU9R3By",
    "outputId": "d2d052b6-3d96-4671-c963-c910ee8d4461"
   },
   "outputs": [
    {
     "name": "stdout",
     "output_type": "stream",
     "text": [
      "    Unnamed: 0  STT   T1   L1   H1   S1   V1   X1   D1   N1  ...  TBM1  TBM2  \\\n",
      "99          99  100  4.1  5.2  4.9  5.3  5.5  5.4  7.2  5.4  ...  5.26  5.72   \n",
      "94          94   95  5.8  5.9  7.6  6.1  5.3  8.1  6.1  5.0  ...  6.10  6.71   \n",
      "62          62   63  6.4  7.2  8.1  8.5  6.2  8.8  7.9  5.6  ...  7.13  7.25   \n",
      "15          15   16  2.5  5.3  4.9  8.2  6.9  6.0  6.7  5.0  ...  5.49  6.44   \n",
      "38          38   39  4.4  5.6  5.2  6.4  5.9  6.7  7.2  4.3  ...  5.60  5.28   \n",
      "75          75   76  5.5  4.0  4.3  5.6  3.3  5.9  2.8  3.4  ...  4.36  4.42   \n",
      "63          63   64  7.5  7.6  7.8  7.9  5.7  8.1  5.8  6.2  ...  6.98  7.33   \n",
      "98          98   99  2.7  1.8  3.4  5.3  4.5  7.9  4.9  3.8  ...  4.15  4.72   \n",
      "36          36   37  7.3  4.8  4.9  4.6  4.0  5.1  5.8  3.4  ...  5.12  6.19   \n",
      "60          60   61  6.2  7.8  7.8  8.0  5.1  7.4  5.8  5.4  ...  6.48  6.62   \n",
      "65          65   66  3.0  4.0  3.8  6.6  5.4  5.4  4.0  5.3  ...  4.59  4.81   \n",
      "29          29   30  4.5  3.8  4.8  5.9  4.3  6.2  5.2  6.1  ...  4.96  5.52   \n",
      "69          69   70  6.0  5.9  6.0  5.3  4.8  7.1  5.8  5.2  ...  5.69  6.37   \n",
      "64          64   65  7.1  6.2  8.4  7.3  6.4  6.7  8.5  4.9  ...  6.90  7.06   \n",
      "5            5    6  9.3  7.6  7.9  8.6  7.0  7.3  7.7  7.9  ...  7.96  8.54   \n",
      "59          59   60  3.6  4.6  5.0  6.9  5.2  4.5  5.8  7.3  ...  5.17  5.19   \n",
      "77          77   78  5.2  3.6  3.8  7.1  5.3  4.8  6.4  4.5  ...  5.12  6.11   \n",
      "39          39   40  4.3  5.0  4.8  1.9  3.1  6.1  7.5  3.8  ...  4.39  5.57   \n",
      "1            1    2  5.4  3.9  3.9  4.0  5.4  5.4  5.3  2.8  ...  4.69  5.47   \n",
      "87          87   88  7.3  4.3  5.3  5.8  4.9  3.7  5.6  5.3  ...  5.44  5.78   \n",
      "88          88   89  5.2  6.0  4.7  6.2  3.9  6.6  4.9  3.7  ...  5.03  6.58   \n",
      "33          33   34  6.4  4.6  6.4  5.9  5.7  7.2  6.9  2.9  ...  5.81  5.01   \n",
      "90          90   91  8.1  7.7  9.1  8.5  6.1  8.6  8.8  7.3  ...  7.84  8.27   \n",
      "3            3    4  6.6  6.4  5.3  6.9  5.4  7.3  6.4  5.8  ...  6.21  5.20   \n",
      "93          93   94  5.2  5.2  6.8  7.9  6.6  8.9  7.6  5.3  ...  6.53  7.12   \n",
      "84          84   85  8.4  7.4  6.0  7.8  6.3  7.2  8.5  6.0  ...  7.23  7.77   \n",
      "72          72   73  5.5  6.6  7.2  7.6  5.5  6.7  6.7  5.2  ...  6.20  5.88   \n",
      "67          67   68  4.6  4.9  5.3  5.7  4.5  5.0  7.3  2.8  ...  4.92  5.79   \n",
      "81          81   82  5.7  5.0  4.7  5.7  4.7  5.5  5.2  4.2  ...  5.11  4.86   \n",
      "78          78   79  5.3  4.3  5.9  7.7  6.8  6.9  7.0  5.6  ...  6.16  5.71   \n",
      "66          66   67  5.1  3.7  4.7  5.5  5.1  4.5  5.8  2.8  ...  4.74  5.52   \n",
      "4            4    5  6.0  5.0  6.0  7.3  6.5  7.7  7.9  6.1  ...  6.50  6.36   \n",
      "34          34   35  4.7  7.2  7.4  7.6  6.3  7.7  4.9  4.7  ...  6.15  6.19   \n",
      "17          17   18  5.4  6.0  4.9  5.5  4.2  7.3  5.3  4.9  ...  5.31  6.16   \n",
      "91          91   92  7.8  6.5  6.7  5.4  6.2  4.8  5.9  4.4  ...  6.17  6.63   \n",
      "31          31   32  2.6  4.6  4.6  3.6  4.2  5.4  5.2  4.5  ...  4.15  5.44   \n",
      "86          86   87  6.3  6.5  8.1  7.7  6.7  5.4  7.0  5.4  ...  6.61  6.52   \n",
      "18          18   19  5.6  4.8  7.3  3.9  5.5  6.0  6.1  4.8  ...  5.51  5.65   \n",
      "20          20   21  3.9  3.9  6.0  6.7  6.1  4.8  6.3  5.2  ...  5.29  5.93   \n",
      "35          35   36  6.5  4.4  6.5  5.7  6.4  6.9  4.0  4.6  ...  5.79  5.58   \n",
      "58          58   59  6.5  5.8  7.4  7.7  7.2  7.5  6.5  4.6  ...  6.69  7.50   \n",
      "92          92   93  5.0  6.6  6.5  7.2  5.8  6.7  6.4  6.0  ...  6.10  6.53   \n",
      "28          28   29  6.3  6.4  6.6  6.7  6.6  8.1  7.8  4.5  ...  6.59  6.03   \n",
      "37          37   38  3.4  4.2  3.7  4.4  6.1  4.6  4.7  4.4  ...  4.50  5.26   \n",
      "23          23   24  5.3  6.3  5.7  6.9  5.9  7.5  6.6  5.1  ...  6.05  6.32   \n",
      "53          53   54  4.9  5.9  6.2  5.6  5.9  5.0  7.0  5.6  ...  5.69  6.26   \n",
      "89          89   90  5.7  4.6  5.9  5.7  4.7  4.3  4.4  5.5  ...  5.12  5.32   \n",
      "68          68   69  7.3  6.4  6.9  7.5  6.2  8.4  7.6  8.1  ...  7.19  7.70   \n",
      "47          47   48  7.9  7.6  8.4  8.6  6.2  7.5  8.7  7.7  ...  7.67  7.49   \n",
      "11          11   12  7.9  7.0  9.1  8.6  6.1  7.0  5.6  9.0  ...  7.43  7.72   \n",
      "2            2    3  5.6  6.8  7.2  7.5  4.3  7.4  5.8  3.2  ...  5.77  5.38   \n",
      "97          97   98  8.8  5.5  7.4  7.7  6.2  7.3  8.1  4.5  ...  7.05  7.84   \n",
      "\n",
      "    TBM3  XL1  XL2  XL3  US_TBM1  US_TBM2  US_TBM3  KQXT  \n",
      "99  5.85   TB   TB   TB    2.104    2.288    2.340   0.0  \n",
      "94  6.68   TB    K    K    2.440    2.684    2.672   0.0  \n",
      "62  7.25    K    K    K    2.852    2.900    2.900   0.0  \n",
      "15  6.21   TB   TB   TB    2.196    2.576    2.484   0.0  \n",
      "38  5.58   TB   TB   TB    2.240    2.112    2.232   0.0  \n",
      "75  4.79    Y    Y    Y    1.744    1.768    1.916   0.0  \n",
      "63  6.75    K    K    K    2.792    2.932    2.700   0.0  \n",
      "98  5.29    Y    Y   TB    1.660    1.888    2.116   0.0  \n",
      "36  6.60   TB   TB    K    2.048    2.476    2.640   0.0  \n",
      "60  6.88   TB    K    K    2.592    2.648    2.752   0.0  \n",
      "65  5.88    Y    Y   TB    1.836    1.924    2.352   0.0  \n",
      "29  5.55    Y   TB   TB    1.984    2.208    2.220   0.0  \n",
      "69  5.65   TB   TB   TB    2.276    2.548    2.260   0.0  \n",
      "64  6.93    K    K    K    2.760    2.824    2.772   0.0  \n",
      "5   7.38    K    G    K    3.184    3.416    2.952   0.0  \n",
      "59  5.77   TB   TB   TB    2.068    2.076    2.308   0.0  \n",
      "77  6.47   TB   TB   TB    2.048    2.444    2.588   0.0  \n",
      "39  6.73    Y   TB    K    1.756    2.228    2.692   0.0  \n",
      "1   5.07    Y   TB   TB    1.876    2.188    2.028   0.0  \n",
      "87  6.48   TB   TB   TB    2.176    2.312    2.592   0.0  \n",
      "88  6.00   TB    K   TB    2.012    2.632    2.400   0.0  \n",
      "33  5.63   TB   TB   TB    2.324    2.004    2.252   0.0  \n",
      "90  8.29    K    G    G    3.136    3.308    3.316   1.0  \n",
      "3   6.88   TB   TB    K    2.484    2.080    2.752   0.0  \n",
      "93  6.97    K    K    K    2.612    2.848    2.788   0.0  \n",
      "84  7.58    K    K    K    2.892    3.108    3.032   1.0  \n",
      "72  6.22   TB   TB   TB    2.480    2.352    2.488   0.0  \n",
      "67  6.08    Y   TB   TB    1.968    2.316    2.432   0.0  \n",
      "81  6.32   TB    Y   TB    2.044    1.944    2.528   0.0  \n",
      "78  5.24   TB   TB   TB    2.464    2.284    2.096   0.0  \n",
      "66  5.83    Y   TB   TB    1.896    2.208    2.332   0.0  \n",
      "4   6.99    K   TB    K    2.600    2.544    2.796   0.0  \n",
      "34  6.51   TB   TB    K    2.460    2.476    2.604   0.0  \n",
      "17  6.85   TB   TB    K    2.124    2.464    2.740   0.0  \n",
      "91  7.65   TB    K    K    2.468    2.652    3.060   0.0  \n",
      "31  7.20    Y   TB    K    1.660    2.176    2.880   0.0  \n",
      "86  6.57    K    K    K    2.644    2.608    2.628   0.0  \n",
      "18  6.79   TB   TB    K    2.204    2.260    2.716   0.0  \n",
      "20  7.05   TB   TB    K    2.116    2.372    2.820   0.0  \n",
      "35  6.32   TB   TB   TB    2.316    2.232    2.528   0.0  \n",
      "58  7.88    K    K    K    2.676    3.000    3.152   0.0  \n",
      "92  6.76   TB    K    K    2.440    2.612    2.704   0.0  \n",
      "28  6.89    K   TB    K    2.636    2.412    2.756   0.0  \n",
      "37  5.55    Y   TB   TB    1.800    2.104    2.220   0.0  \n",
      "23  6.71   TB   TB    K    2.420    2.528    2.684   1.0  \n",
      "53  6.02   TB   TB   TB    2.276    2.504    2.408   0.0  \n",
      "89  5.69   TB   TB   TB    2.048    2.128    2.276   0.0  \n",
      "68  8.00    K    K    G    2.876    3.080    3.200   0.0  \n",
      "47  7.11    K    K    K    3.068    2.996    2.844   1.0  \n",
      "11  7.49    K    K    K    2.972    3.088    2.996   1.0  \n",
      "2   6.04   TB   TB   TB    2.308    2.152    2.416   1.0  \n",
      "97  7.67    K    K    K    2.820    3.136    3.068   1.0  \n",
      "\n",
      "[52 rows x 67 columns]\n",
      "    Unnamed: 0  STT   T1   L1   H1   S1   V1   X1   D1   N1  ...  TBM1  TBM2  \\\n",
      "95          95   96  8.6  6.9  7.4  8.8  7.6  5.8  7.3  5.7  ...  7.43  7.42   \n",
      "25          25   26  3.6  5.8  6.9  6.1  5.5  7.2  5.5  4.3  ...  5.40  5.20   \n",
      "24          24   25  2.4  4.1  3.6  5.5  5.9  5.6  4.9  4.2  ...  4.45  4.88   \n",
      "46          46   47  6.7  6.8  6.4  5.9  5.6  6.4  8.0  6.8  ...  6.49  6.51   \n",
      "13          13   14  4.9  5.4  5.0  5.0  5.8  7.0  4.2  5.8  ...  5.38  5.51   \n",
      "21          21   22  5.0  5.1  6.3  4.5  6.8  5.8  5.1  4.1  ...  5.45  5.21   \n",
      "0            0    1  7.2  7.3  6.3  7.3  7.0  7.9  7.3  5.5  ...  7.00  7.54   \n",
      "51          51   52  6.0  5.3  8.5  6.6  7.6  7.5  7.6  4.0  ...  6.67  7.73   \n",
      "52          52   53  5.3  7.0  7.0  7.3  6.7  8.4  6.6  7.8  ...  6.81  7.35   \n",
      "30          30   31  7.6  7.2  5.4  5.6  5.6  6.7  6.7  4.0  ...  6.20  6.57   \n",
      "61          61   62  7.2  5.5  6.5  6.9  8.0  7.2  6.8  4.8  ...  6.81  7.23   \n",
      "74          74   75  4.2  5.6  5.0  8.4  6.3  8.2  6.9  3.9  ...  5.90  6.55   \n",
      "22          22   23  5.0  4.5  5.3  6.8  4.8  5.5  5.5  5.5  ...  5.27  5.83   \n",
      "8            8    9  6.5  6.3  7.6  6.0  5.5  7.1  6.3  5.0  ...  6.23  6.72   \n",
      "79          79   80  4.8  3.9  5.5  4.9  5.6  4.1  5.8  5.1  ...  5.01  5.30   \n",
      "80          80   81  8.2  6.5  5.1  6.1  6.6  8.7  7.1  6.8  ...  6.99  7.30   \n",
      "43          43   44  6.6  7.2  5.9  6.9  7.6  8.1  7.3  6.7  ...  7.05  6.61   \n",
      "42          42   43  7.0  7.4  7.5  8.3  8.7  8.0  8.8  7.0  ...  7.84  7.95   \n",
      "54          54   55  5.3  5.7  5.4  4.6  4.4  6.6  4.7  5.3  ...  5.17  5.42   \n",
      "96          96   97  3.7  5.4  6.0  5.1  5.5  3.9  6.1  4.4  ...  4.93  5.15   \n",
      "40          40   41  5.3  6.3  8.4  7.3  5.8  8.5  7.6  7.8  ...  6.81  7.32   \n",
      "44          44   45  6.1  6.9  5.9  6.6  6.0  7.0  6.8  6.7  ...  6.41  7.27   \n",
      "76          76   77  5.4  6.8  7.1  7.2  5.6  6.8  6.7  5.3  ...  6.19  6.55   \n",
      "19          19   20  8.2  7.3  7.8  7.6  5.6  7.2  6.0  6.5  ...  7.00  6.22   \n",
      "48          48   49  7.9  6.0  6.4  7.4  8.0  7.1  8.4  7.0  ...  7.41  8.01   \n",
      "10          10   11  5.2  6.4  7.4  7.0  7.1  8.1  7.6  6.8  ...  6.79  7.28   \n",
      "16          16   17  8.8  7.0  7.7  7.1  6.1  5.4  8.3  5.3  ...  7.06  6.89   \n",
      "7            7    8  8.3  6.0  7.6  5.1  7.5  4.7  5.8  7.2  ...  6.80  6.87   \n",
      "73          73   74  5.2  3.1  4.7  5.8  6.1  3.1  4.8  4.4  ...  4.85  5.59   \n",
      "70          70   71  5.8  6.3  6.0  6.5  6.7  7.6  6.7  5.9  ...  6.40  6.95   \n",
      "12          12   13  7.3  6.3  8.7  7.7  6.6  8.5  6.9  8.5  ...  7.44  6.82   \n",
      "41          41   42  8.3  8.0  9.0  8.3  7.9  8.3  8.1  6.7  ...  8.08  8.28   \n",
      "49          49   50  8.2  7.2  8.4  5.9  5.9  6.4  6.4  6.2  ...  6.87  6.92   \n",
      "45          45   46  6.9  5.3  7.1  5.7  7.0  8.4  6.2  6.4  ...  6.69  6.29   \n",
      "26          26   27  4.9  4.8  5.0  5.4  5.2  5.3  6.5  4.4  ...  5.16  5.47   \n",
      "32          32   33  6.0  6.8  7.1  7.3  6.6  7.1  6.9  7.0  ...  6.74  6.63   \n",
      "14          14   15  7.1  8.0  9.1  7.5  6.1  7.7  7.9  7.6  ...  7.42  7.57   \n",
      "55          55   56  7.9  6.9  7.0  7.0  7.0  3.9  5.6  6.4  ...  6.66  7.04   \n",
      "71          71   72  3.0  5.1  3.0  6.4  4.3  4.8  2.0  4.5  ...  4.04  5.30   \n",
      "9            9   10  7.3  5.9  4.7  7.1  6.7  7.9  6.7  7.7  ...  6.80  7.25   \n",
      "83          83   84  5.9  5.7  7.1  6.7  6.5  8.0  8.1  4.3  ...  6.47  7.11   \n",
      "27          27   28  8.1  5.5  5.1  5.6  6.2  6.2  6.6  4.8  ...  6.24  5.50   \n",
      "50          50   51  5.5  7.1  6.1  5.8  6.2  6.9  7.3  6.1  ...  6.27  6.35   \n",
      "57          57   58  7.2  7.6  6.6  6.6  5.0  7.1  6.8  9.3  ...  6.84  7.24   \n",
      "56          56   57  6.3  6.9  6.9  6.9  6.8  6.2  7.6  6.7  ...  6.74  6.91   \n",
      "85          85   86  7.2  6.6  6.8  6.7  7.1  6.4  7.2  6.0  ...  6.83  7.57   \n",
      "82          82   83  5.1  5.9  5.9  4.5  6.2  5.3  6.5  4.7  ...  5.54  6.50   \n",
      "6            6    7  2.8  3.9  5.5  6.9  5.0  7.3  4.6  5.2  ...  4.90  5.60   \n",
      "\n",
      "    TBM3  XL1  XL2  XL3  US_TBM1  US_TBM2  US_TBM3  KQXT  \n",
      "95  6.83    K    K    K    2.972    2.968    2.732   0.0  \n",
      "25  5.09   TB   TB   TB    2.160    2.080    2.036   0.0  \n",
      "24  5.41    Y    Y   TB    1.780    1.952    2.164   0.0  \n",
      "46  6.16   TB    K   TB    2.596    2.604    2.464   0.0  \n",
      "13  6.26   TB   TB   TB    2.152    2.204    2.504   0.0  \n",
      "21  6.33   TB   TB   TB    2.180    2.084    2.532   0.0  \n",
      "0   7.01    K    K    K    2.800    3.016    2.804   0.0  \n",
      "51  7.18    K    K    K    2.668    3.092    2.872   0.0  \n",
      "52  6.19    K    K   TB    2.724    2.940    2.476   0.0  \n",
      "30  6.92   TB    K    K    2.480    2.628    2.768   0.0  \n",
      "61  7.64    K    K    K    2.724    2.892    3.056   0.0  \n",
      "74  7.01   TB    K    K    2.360    2.620    2.804   0.0  \n",
      "22  5.84   TB   TB   TB    2.108    2.332    2.336   0.0  \n",
      "8   7.56   TB    K    K    2.492    2.688    3.024   0.0  \n",
      "79  6.08   TB   TB   TB    2.004    2.120    2.432   0.0  \n",
      "80  7.50    K    K    K    2.796    2.920    3.000   0.0  \n",
      "43  6.77    K    K    K    2.820    2.644    2.708   0.0  \n",
      "42  7.22    K    K    K    3.136    3.180    2.888   0.0  \n",
      "54  6.59   TB   TB    K    2.068    2.168    2.636   0.0  \n",
      "96  6.39    Y   TB   TB    1.972    2.060    2.556   0.0  \n",
      "40  7.16    K    K    K    2.724    2.928    2.864   0.0  \n",
      "44  7.27   TB    K    K    2.564    2.908    2.908   0.0  \n",
      "76  6.80   TB    K    K    2.476    2.620    2.720   0.0  \n",
      "19  6.72    K   TB    K    2.800    2.488    2.688   0.0  \n",
      "48  7.71    K    G    K    2.964    3.204    3.084   1.0  \n",
      "10  7.34    K    K    K    2.716    2.912    2.936   0.0  \n",
      "16  6.73    K    K    K    2.824    2.756    2.692   0.0  \n",
      "7   7.03    K    K    K    2.720    2.748    2.812   0.0  \n",
      "73  5.40    Y   TB   TB    1.940    2.236    2.160   0.0  \n",
      "70  7.39   TB    K    K    2.560    2.780    2.956   0.0  \n",
      "12  7.46    K    K    K    2.976    2.728    2.984   0.0  \n",
      "41  8.22    G    G    G    3.232    3.312    3.288   0.0  \n",
      "49  7.14    K    K    K    2.748    2.768    2.856   0.0  \n",
      "45  6.58    K   TB    K    2.676    2.516    2.632   0.0  \n",
      "26  7.23   TB   TB    K    2.064    2.188    2.892   0.0  \n",
      "32  6.89    K    K    K    2.696    2.652    2.756   0.0  \n",
      "14  7.95    K    K    K    2.968    3.028    3.180   0.0  \n",
      "55  7.65    K    K    K    2.664    2.816    3.060   0.0  \n",
      "71  6.72    Y   TB    K    1.616    2.120    2.688   0.0  \n",
      "9   7.03    K    K    K    2.720    2.900    2.812   0.0  \n",
      "83  7.47   TB    K    K    2.588    2.844    2.988   0.0  \n",
      "27  6.26   TB   TB   TB    2.496    2.200    2.504   0.0  \n",
      "50  7.18   TB   TB    K    2.508    2.540    2.872   0.0  \n",
      "57  6.59    K    K    K    2.736    2.896    2.636   0.0  \n",
      "56  7.38    K    K    K    2.696    2.764    2.952   1.0  \n",
      "85  6.96    K    K    K    2.732    3.028    2.784   0.0  \n",
      "82  7.12   TB    K    K    2.216    2.600    2.848   0.0  \n",
      "6   6.01    Y   TB   TB    1.960    2.240    2.404   1.0  \n",
      "\n",
      "[48 rows x 67 columns]\n"
     ]
    }
   ],
   "source": [
    "df_Nam=df[df['GT']=='M']\n",
    "print(df_Nam.sort_values(by='DH2'))\n",
    "\n",
    "df_Nu=df[df['GT']=='F']\n",
    "print(df_Nu.sort_values(by='DH2'))"
   ]
  },
  {
   "cell_type": "code",
   "execution_count": 284,
   "metadata": {
    "colab": {
     "base_uri": "https://localhost:8080/"
    },
    "id": "b2Pk3IiZU-lQ",
    "outputId": "88acfa56-3f8c-4b4c-8ce9-41f8b58d7cc4"
   },
   "outputs": [
    {
     "name": "stdout",
     "output_type": "stream",
     "text": [
      "    count     sum      mean  median  amin  amax       std      Q1    Q2     Q3\n",
      "KT                                                                            \n",
      "A      49  163.50  3.336735    3.25  1.00  6.50  1.274296  2.2500  3.25  4.250\n",
      "A1      6   17.50  2.916667    3.00  2.00  4.25  0.861201  2.1875  3.00  3.250\n",
      "B       9   29.50  3.277778    3.50  1.75  4.50  0.823905  3.2500  3.50  3.750\n",
      "C      14   79.25  5.660714    5.25  4.75  7.00  0.812209  5.0625  5.25  6.375\n",
      "D1     22   84.25  3.829545    3.75  1.25  6.75  1.370146  3.0000  3.75  4.875\n"
     ]
    }
   ],
   "source": [
    "df_theo_KT=df.groupby('KT')['DH1'].aggregate(['count',np.sum, np.mean, np.median, np.min,np.max,np.std,\n",
    "                                       lambda x: x.quantile(0.25),lambda x: x.quantile(0.5),lambda x: x.quantile(0.75)])\n",
    "\n",
    "df_KT=df_theo_KT.rename(columns={'<lambda_0>':'Q1', '<lambda_1>':'Q2','<lambda_2>':'Q3'})\n",
    "print(df_KT)\n",
    "               "
   ]
  },
  {
   "cell_type": "code",
   "execution_count": 285,
   "metadata": {
    "colab": {
     "base_uri": "https://localhost:8080/"
    },
    "id": "5vOm8PoJW1nG",
    "outputId": "38c52d11-90ae-4a95-c122-b2b41328e9d8"
   },
   "outputs": [
    {
     "name": "stdout",
     "output_type": "stream",
     "text": [
      "        count    sum      mean  median  amin  amax       std      Q1     Q2  \\\n",
      "KT KV                                                                         \n",
      "A  1       29  93.75  3.232759   3.250  1.00  6.50  1.369194  2.0000  3.250   \n",
      "   2        9  31.75  3.527778   3.500  2.00  6.25  1.427653  2.2500  3.500   \n",
      "   2NT     11  38.00  3.454545   3.500  2.00  4.75  0.913908  2.8750  3.500   \n",
      "A1 1        2   4.75  2.375000   2.375  2.00  2.75  0.530330  2.1875  2.375   \n",
      "   2NT      4  12.75  3.187500   3.250  2.00  4.25  0.921389  2.9375  3.250   \n",
      "B  1        8  25.75  3.218750   3.375  1.75  4.50  0.860207  3.0000  3.375   \n",
      "   2NT      1   3.75  3.750000   3.750  3.75  3.75       NaN  3.7500  3.750   \n",
      "C  1        8  43.50  5.437500   5.250  4.75  7.00  0.728869  5.0000  5.250   \n",
      "   2        2  11.50  5.750000   5.750  5.00  6.50  1.060660  5.3750  5.750   \n",
      "   2NT      4  24.25  6.062500   6.000  5.25  7.00  0.943729  5.2500  6.000   \n",
      "D1 1       13  46.75  3.596154   3.500  1.50  5.75  1.264658  2.7500  3.500   \n",
      "   2        8  33.75  4.218750   4.500  1.25  6.75  1.617082  3.5625  4.500   \n",
      "   2NT      1   3.75  3.750000   3.750  3.75  3.75       NaN  3.7500  3.750   \n",
      "\n",
      "            Q3  \n",
      "KT KV           \n",
      "A  1    4.2500  \n",
      "   2    4.2500  \n",
      "   2NT  4.1250  \n",
      "A1 1    2.5625  \n",
      "   2NT  3.5000  \n",
      "B  1    3.5625  \n",
      "   2NT  3.7500  \n",
      "C  1    5.4375  \n",
      "   2    6.1250  \n",
      "   2NT  6.8125  \n",
      "D1 1    4.2500  \n",
      "   2    5.0000  \n",
      "   2NT  3.7500  \n"
     ]
    }
   ],
   "source": [
    "df_theo_KT_KV= df.groupby(['KT','KV'])['DH1'].aggregate(['count',np.sum, np.mean, np.median, np.min,np.max,np.std,\n",
    "                                       lambda x: x.quantile(0.25),lambda x: x.quantile(0.5),lambda x: x.quantile(0.75)])\n",
    "\n",
    "df_KT_KV=df_theo_KT_KV.rename(columns={'<lambda_0>':'Q1', '<lambda_1>':'Q2','<lambda_2>':'Q3'})\n",
    "print(df_KT_KV)"
   ]
  },
  {
   "cell_type": "code",
   "execution_count": 286,
   "metadata": {
    "colab": {
     "base_uri": "https://localhost:8080/",
     "height": 579
    },
    "id": "hSByiiI7ezan",
    "outputId": "549e21a3-3658-4484-cfce-51fb47622ab1"
   },
   "outputs": [
    {
     "name": "stdout",
     "output_type": "stream",
     "text": [
      "           count   sum  mean  median  amin  amax  std    Q1    Q2    Q3\n",
      "KT KV DT                                                               \n",
      "A  2  6.0      1  4.25  4.25    4.25  4.25  4.25  NaN  4.25  4.25  4.25\n",
      "D1 1  1.0      1  3.00  3.00    3.00  3.00  3.00  NaN  3.00  3.00  3.00\n",
      "   2  1.0      1  1.25  1.25    1.25  1.25  1.25  NaN  1.25  1.25  1.25\n"
     ]
    }
   ],
   "source": [
    "df_theo_KT_KV_DT=df.groupby(['KT','KV','DT'])['DH1'].aggregate(['count',np.sum, np.mean, np.median, np.min,np.max,np.std,\n",
    "                                       lambda x: x.quantile(0.25),lambda x: x.quantile(0.5),lambda x: x.quantile(0.75)])\n",
    "df_KT_KV_DT=df_theo_KT_KV_DT.rename(columns={'<lambda_0>':'Q1', '<lambda_1>':'Q2','<lambda_2>':'Q3'})\n",
    "print(df_KT_KV_DT)"
   ]
  },
  {
   "cell_type": "code",
   "execution_count": 287,
   "metadata": {},
   "outputs": [
    {
     "name": "stdout",
     "output_type": "stream",
     "text": [
      "    count\n",
      "GT       \n",
      "F      48\n",
      "M      52\n"
     ]
    },
    {
     "data": {
      "text/plain": [
       "<AxesSubplot:xlabel='GT'>"
      ]
     },
     "execution_count": 287,
     "metadata": {},
     "output_type": "execute_result"
    },
    {
     "data": {
      "image/png": "[encoded data removed]",
      "text/plain": [
       "<Figure size 432x288 with 1 Axes>"
      ]
     },
     "metadata": {
      "needs_background": "light"
     },
     "output_type": "display_data"
    }
   ],
   "source": [
    "#phần 2\n",
    "\n",
    "df_theo_GT=df.groupby('GT')['GT'].agg(['count'])\n",
    "print(df_theo_GT)\n",
    "df_nam_nu=df.groupby('GT')['GT'].agg(['count'])\n",
    "\n",
    "df_nam_nu.plot.bar()"
   ]
  },
  {
   "cell_type": "code",
   "execution_count": 288,
   "metadata": {},
   "outputs": [
    {
     "data": {
      "text/plain": [
       "GT\n",
       "F    48\n",
       "M    52\n",
       "Name: GT, dtype: int64"
      ]
     },
     "execution_count": 288,
     "metadata": {},
     "output_type": "execute_result"
    }
   ],
   "source": [
    "df_nam_nu=df.groupby('GT')['GT'].agg('count')\n",
    "df_nam_nu"
   ]
  },
  {
   "cell_type": "code",
   "execution_count": 289,
   "metadata": {},
   "outputs": [
    {
     "data": {
      "text/plain": [
       "<AxesSubplot:ylabel='GT'>"
      ]
     },
     "execution_count": 289,
     "metadata": {},
     "output_type": "execute_result"
    },
    {
     "data": {
      "image/png": "[encoded data removed]",
      "text/plain": [
       "<Figure size 432x288 with 1 Axes>"
      ]
     },
     "metadata": {},
     "output_type": "display_data"
    }
   ],
   "source": [
    "df_nam_nu.plot.pie(y = 'count')"
   ]
  },
  {
   "cell_type": "code",
   "execution_count": 290,
   "metadata": {},
   "outputs": [
    {
     "data": {
      "text/plain": [
       "<AxesSubplot:ylabel='count'>"
      ]
     },
     "execution_count": 290,
     "metadata": {},
     "output_type": "execute_result"
    },
    {
     "data": {
      "image/png": "[encoded data removed]",
      "text/plain": [
       "<Figure size 432x288 with 1 Axes>"
      ]
     },
     "metadata": {
      "needs_background": "light"
     },
     "output_type": "display_data"
    },
    {
     "data": {
      "image/png": "[encoded data removed]",
      "text/plain": [
       "<Figure size 432x288 with 1 Axes>"
      ]
     },
     "metadata": {
      "needs_background": "light"
     },
     "output_type": "display_data"
    },
    {
     "data": {
      "image/png": "[encoded data removed]",
      "text/plain": [
       "<Figure size 432x288 with 1 Axes>"
      ]
     },
     "metadata": {},
     "output_type": "display_data"
    }
   ],
   "source": [
    "df_nam=df[df['GT']=='M' ]\n",
    "df_nam_theo_DT=df_nam.groupby('DT')['DT'].agg(['count'])\n",
    "df_nam_theo_DT.plot.bar()\n",
    "df_nam_theo_DT_bang=pd.pivot_table(df_nam_theo_DT, values='count', columns='DT')\n",
    "df_nam_theo_DT_bang.plot.bar()\n",
    "df_nam_theo_DT.plot.pie(y = 'count')\n"
   ]
  },
  {
   "cell_type": "code",
   "execution_count": 291,
   "metadata": {},
   "outputs": [
    {
     "name": "stdout",
     "output_type": "stream",
     "text": [
      "Empty DataFrame\n",
      "Columns: [count]\n",
      "Index: []\n"
     ]
    },
    {
     "name": "stderr",
     "output_type": "stream",
     "text": [
      "C:\\Users\\Thai Anh\\AppData\\Roaming\\Python\\Python39\\site-packages\\pandas\\plotting\\_matplotlib\\core.py:1616: MatplotlibDeprecationWarning: normalize=None does not normalize if the sum is less than 1 but this behavior is deprecated since 3.3 until two minor releases later. After the deprecation period the default value will be normalize=True. To prevent normalization pass normalize=False \n",
      "  results = ax.pie(y, labels=blabels, **kwds)\n"
     ]
    },
    {
     "data": {
      "text/plain": [
       "<AxesSubplot:ylabel='count'>"
      ]
     },
     "execution_count": 291,
     "metadata": {},
     "output_type": "execute_result"
    },
    {
     "data": {
      "image/png": "[encoded data removed]",
      "text/plain": [
       "<Figure size 432x288 with 1 Axes>"
      ]
     },
     "metadata": {},
     "output_type": "display_data"
    }
   ],
   "source": [
    "df_KV=df.loc[(df['DH1']>= 5 )& (df['DH1']>=4) & (df['DH3']>= 4) &(df['GT']=='M')&(df['DT']=='0')]\n",
    "df_KV_bang=df_KV.groupby('KV')['KV'].agg(['count'])\n",
    "print(df_KV_bang)\n",
    "df_KV_bang.plot.pie(y='count')\n",
    "\n",
    "#Câu này do lỗi hệ thống nên không thể hiện thị"
   ]
  },
  {
   "cell_type": "code",
   "execution_count": 292,
   "metadata": {},
   "outputs": [
    {
     "data": {
      "text/plain": [
       "Text(0, 0.5, 'SL')"
      ]
     },
     "execution_count": 292,
     "metadata": {},
     "output_type": "execute_result"
    },
    {
     "data": {
      "image/png": "[encoded data removed]",
      "text/plain": [
       "<Figure size 432x288 with 1 Axes>"
      ]
     },
     "metadata": {
      "needs_background": "light"
     },
     "output_type": "display_data"
    }
   ],
   "source": [
    "df['DH1'].loc[(df['DH1'] >= 5) & (df['KV'] == '2NT')].plot.hist(bins=20)\n",
    "plt.xlabel('DiemTDH_DH1')\n",
    "plt.ylabel('SL')"
   ]
  },
  {
   "cell_type": "code",
   "execution_count": 293,
   "metadata": {},
   "outputs": [
    {
     "data": {
      "text/plain": [
       "Text(0, 0.5, 'SL')"
      ]
     },
     "execution_count": 293,
     "metadata": {},
     "output_type": "execute_result"
    },
    {
     "data": {
      "image/png": "[encoded data removed]",
      "text/plain": [
       "<Figure size 432x288 with 1 Axes>"
      ]
     },
     "metadata": {
      "needs_background": "light"
     },
     "output_type": "display_data"
    }
   ],
   "source": [
    "df['DH2'].loc[(df['DH2'] >= 5) & (df['KV'] == '2NT')].plot.hist(bins=20)\n",
    "plt.xlabel('DiemTDH_DH2')\n",
    "plt.ylabel('SL')"
   ]
  },
  {
   "cell_type": "code",
   "execution_count": 294,
   "metadata": {},
   "outputs": [
    {
     "data": {
      "text/plain": [
       "Text(0, 0.5, 'SL')"
      ]
     },
     "execution_count": 294,
     "metadata": {},
     "output_type": "execute_result"
    },
    {
     "data": {
      "image/png": "[encoded data removed]",
      "text/plain": [
       "<Figure size 432x288 with 1 Axes>"
      ]
     },
     "metadata": {
      "needs_background": "light"
     },
     "output_type": "display_data"
    }
   ],
   "source": [
    "df['DH3'].loc[(df['DH3'] >= 5) & (df['KV'] == '2NT')].plot.hist(bins=20)\n",
    "plt.xlabel('DiemTDH_DH3')\n",
    "plt.ylabel('SL')"
   ]
  },
  {
   "cell_type": "code",
   "execution_count": 295,
   "metadata": {},
   "outputs": [
    {
     "data": {
      "text/plain": [
       "<AxesSubplot:ylabel='count'>"
      ]
     },
     "execution_count": 295,
     "metadata": {},
     "output_type": "execute_result"
    },
    {
     "data": {
      "image/png": "[encoded data removed]",
      "text/plain": [
       "<Figure size 432x288 with 1 Axes>"
      ]
     },
     "metadata": {
      "needs_background": "light"
     },
     "output_type": "display_data"
    },
    {
     "data": {
      "image/png": "[encoded data removed]",
      "text/plain": [
       "<Figure size 432x288 with 1 Axes>"
      ]
     },
     "metadata": {
      "needs_background": "light"
     },
     "output_type": "display_data"
    },
    {
     "data": {
      "image/png": "[encoded data removed]",
      "text/plain": [
       "<Figure size 432x288 with 1 Axes>"
      ]
     },
     "metadata": {},
     "output_type": "display_data"
    },
    {
     "data": {
      "image/png": "[encoded data removed]",
      "text/plain": [
       "<Figure size 432x288 with 1 Axes>"
      ]
     },
     "metadata": {},
     "output_type": "display_data"
    },
    {
     "data": {
      "image/png": "[encoded data removed]",
      "text/plain": [
       "<Figure size 432x288 with 1 Axes>"
      ]
     },
     "metadata": {},
     "output_type": "display_data"
    }
   ],
   "source": [
    "#phần 3\n",
    "#1. Hãy trình bày dữ liệu biến: GT\n",
    "#Gợi ý\n",
    "#- Lập bảng tần số và tần suất\n",
    "#- Vẽ biểu đồ tần số (cột), biểu đồ tần suất (tròn) và biểu đồ tích lũy tần suất (đa giác\n",
    "#tích lũy)\n",
    "#2. Hãy trình bày dữ liệu lần lượt các biến: US_TBM1, US_TBM2 và US_TBM3\n",
    "#3. Hãy trình bày dữ liệu biến DT với các học sinh là nam\n",
    "#4. Hãy trình bày dữ liệu biến KV với các học sinh là nam thuộc dân tộc Kinh, có điểm thõa\n",
    "#mãn điều kiện (DH1 >= 5.0 và DH2 >= 4.0 và DH3 >= 4.0)\n",
    "#5. Hãy trình bày dữ liệu lần lượt các biến DH1, DH2, DH3 lớn hơn bằng 5.0 và thuộc khu\n",
    "#vực 2NT\n",
    "df_nu_theo_XL1=df_nu.groupby(['XL1'])['XL1'].agg(['count'])\n",
    "df_nu_theo_XL2=df_nu.groupby(['XL2'])['XL2'].agg(['count'])\n",
    "df_nu_theo_XL3=df_nu.groupby(['XL3'])['XL3'].agg(['count'])\n",
    "\n",
    "Y_XL1 = int(df_nu_theo_XL1.loc['Y',:])\n",
    "TB_XL1 = int(df_nu_theo_XL1.loc['TB',:])\n",
    "K_XL1 = int(df_nu_theo_XL1.loc['K',:])\n",
    "G_XL1 = int(df_nu_theo_XL1.loc['G',:])\n",
    "XS_XL1 = 0\n",
    "XL1_nu=[Y_XL1,TB_XL1,K_XL1,G_XL1,XS_XL1]\n",
    "\n",
    "Y_XL2 = int(df_nu_theo_XL2.loc['Y',:])\n",
    "TB_XL2 = int(df_nu_theo_XL2.loc['TB',:])\n",
    "K_XL2 = int(df_nu_theo_XL2.loc['K',:])\n",
    "G_XL2 = int(df_nu_theo_XL2.loc['G',:])\n",
    "XS_XL2 = 0\n",
    "XL1_nu=[Y_XL2,TB_XL2,K_XL2,G_XL2,XS_XL2]\n",
    "\n",
    "Y_XL3 =0\n",
    "TB_XL3 = int(df_nu_theo_XL3.loc['TB',:])\n",
    "K_XL3= int(df_nu_theo_XL3.loc['K',:])\n",
    "G_XL3 = int(df_nu_theo_XL3.loc['G',:])\n",
    "XS_XL3 = 0\n",
    "XL1_nu=[Y_XL3,TB_XL3,K_XL3,G_XL3,XS_XL3]\n",
    "\n",
    "Y=[Y_XL1,Y_XL2,Y_XL3]\n",
    "TB=[TB_XL1,TB_XL2,TB_XL3]\n",
    "K=[K_XL1,K_XL2,K_XL3]\n",
    "G=[G_XL1,G_XL2,G_XL3]\n",
    "XS=[XS_XL1,XS_XL2,XS_XL3]\n",
    "\n",
    "index=['XL1','XL2','XL3']\n",
    "\n",
    "df_xl_nu=pd.DataFrame({'Y':Y,'TB':TB,'K':K,'G':G,'XS':XS}, index=index)\n",
    "\n",
    "df_xl_nu.plot.bar()\n",
    "df_xl_nu.plot.bar(stacked=True)\n",
    "\n",
    "df_nu_theo_XL1.plot.pie(y='count')\n",
    "df_nu_theo_XL2.plot.pie(y='count')\n",
    "df_nu_theo_XL3.plot.pie(y='count')\n"
   ]
  },
  {
   "cell_type": "code",
   "execution_count": 296,
   "metadata": {},
   "outputs": [
    {
     "data": {
      "text/plain": [
       "array([<AxesSubplot:ylabel='count'>], dtype=object)"
      ]
     },
     "execution_count": 296,
     "metadata": {},
     "output_type": "execute_result"
    },
    {
     "data": {
      "image/png": "[encoded data removed]",
      "text/plain": [
       "<Figure size 432x288 with 1 Axes>"
      ]
     },
     "metadata": {},
     "output_type": "display_data"
    }
   ],
   "source": [
    "Thuoc_KV = df.loc[(df['KV'] == '1')].append(df.loc[(df['KV'] == '2')])\n",
    "DK_KT = Thuoc_KV.loc[(Thuoc_KV['KT'] == 'A') | (Thuoc_KV['KT'] == 'A1') | (Thuoc_KV['KT'] == 'B')]\n",
    "DK_KT.groupby('KQXT')['KT'].agg(['count']).plot.pie(subplots=True,autopct='%.2f %%')"
   ]
  },
  {
   "cell_type": "code",
   "execution_count": 297,
   "metadata": {},
   "outputs": [
    {
     "data": {
      "text/plain": [
       "Text(0.5, 0, 'KT A')"
      ]
     },
     "execution_count": 297,
     "metadata": {},
     "output_type": "execute_result"
    },
    {
     "data": {
      "image/png": "[encoded data removed]",
      "text/plain": [
       "<Figure size 432x288 with 1 Axes>"
      ]
     },
     "metadata": {},
     "output_type": "display_data"
    }
   ],
   "source": [
    "df.loc[df['KT'] == 'A'].groupby('KV')['KT'].agg(['count']).plot.pie(subplots=True,autopct='%.2f %%')\n",
    "plt.xlabel('KT A')"
   ]
  },
  {
   "cell_type": "code",
   "execution_count": 298,
   "metadata": {},
   "outputs": [
    {
     "data": {
      "text/plain": [
       "Text(0.5, 0, 'KT A1')"
      ]
     },
     "execution_count": 298,
     "metadata": {},
     "output_type": "execute_result"
    },
    {
     "data": {
      "image/png": "[encoded data removed]",
      "text/plain": [
       "<Figure size 432x288 with 1 Axes>"
      ]
     },
     "metadata": {},
     "output_type": "display_data"
    }
   ],
   "source": [
    "df.loc[df['KT'] == 'A1'].groupby('KV')['KT'].agg(['count']).plot.pie(subplots=True,autopct='%.2f %%')\n",
    "plt.xlabel('KT A1')"
   ]
  },
  {
   "cell_type": "code",
   "execution_count": 299,
   "metadata": {},
   "outputs": [
    {
     "data": {
      "text/plain": [
       "Text(0.5, 0, 'KT B')"
      ]
     },
     "execution_count": 299,
     "metadata": {},
     "output_type": "execute_result"
    },
    {
     "data": {
      "image/png": "[encoded data removed]",
      "text/plain": [
       "<Figure size 432x288 with 1 Axes>"
      ]
     },
     "metadata": {},
     "output_type": "display_data"
    }
   ],
   "source": [
    "df.loc[df['KT'] == 'B'].groupby('KV')['KT'].agg(['count']).plot.pie(subplots=True,autopct='%.2f %%')\n",
    "plt.xlabel('KT B')"
   ]
  },
  {
   "cell_type": "code",
   "execution_count": 300,
   "metadata": {},
   "outputs": [
    {
     "data": {
      "text/plain": [
       "Text(0.5, 0, 'KT C')"
      ]
     },
     "execution_count": 300,
     "metadata": {},
     "output_type": "execute_result"
    },
    {
     "data": {
      "image/png": "[encoded data removed]",
      "text/plain": [
       "<Figure size 432x288 with 1 Axes>"
      ]
     },
     "metadata": {},
     "output_type": "display_data"
    }
   ],
   "source": [
    "df.loc[df['KT'] == 'C'].groupby('KV')['KT'].agg(['count']).plot.pie(subplots=True,autopct='%.2f %%')\n",
    "plt.xlabel('KT C')"
   ]
  },
  {
   "cell_type": "code",
   "execution_count": 301,
   "metadata": {},
   "outputs": [
    {
     "data": {
      "text/plain": [
       "Text(0.5, 0, 'KT D1')"
      ]
     },
     "execution_count": 301,
     "metadata": {},
     "output_type": "execute_result"
    },
    {
     "data": {
      "image/png": "[encoded data removed]",
      "text/plain": [
       "<Figure size 432x288 with 1 Axes>"
      ]
     },
     "metadata": {},
     "output_type": "display_data"
    }
   ],
   "source": [
    "df.loc[df['KT'] == 'D1'].groupby('KV')['KT'].agg(['count']).plot.pie(subplots=True,autopct='%.2f %%')\n",
    "plt.xlabel('KT D1')"
   ]
  },
  {
   "cell_type": "code",
   "execution_count": 302,
   "metadata": {},
   "outputs": [
    {
     "data": {
      "text/plain": [
       "array([<AxesSubplot:ylabel='count'>], dtype=object)"
      ]
     },
     "execution_count": 302,
     "metadata": {},
     "output_type": "execute_result"
    },
    {
     "data": {
      "image/png": "[encoded data removed]",
      "text/plain": [
       "<Figure size 432x288 with 1 Axes>"
      ]
     },
     "metadata": {},
     "output_type": "display_data"
    }
   ],
   "source": [
    "df.loc[df['KT'] == 'A'].groupby('KQXT')['KT'].agg(['count']).plot.pie(subplots=True,autopct='%.2f %%')"
   ]
  },
  {
   "cell_type": "code",
   "execution_count": 303,
   "metadata": {},
   "outputs": [
    {
     "data": {
      "text/plain": [
       "array([<AxesSubplot:ylabel='count'>], dtype=object)"
      ]
     },
     "execution_count": 303,
     "metadata": {},
     "output_type": "execute_result"
    },
    {
     "data": {
      "image/png": "[encoded data removed]",
      "text/plain": [
       "<Figure size 432x288 with 1 Axes>"
      ]
     },
     "metadata": {},
     "output_type": "display_data"
    }
   ],
   "source": [
    "df.loc[df['KT'] == 'A1'].groupby('KQXT')['KT'].agg(['count']).plot.pie(subplots=True,autopct='%.2f %%')"
   ]
  },
  {
   "cell_type": "code",
   "execution_count": 304,
   "metadata": {},
   "outputs": [
    {
     "data": {
      "text/plain": [
       "array([<AxesSubplot:ylabel='count'>], dtype=object)"
      ]
     },
     "execution_count": 304,
     "metadata": {},
     "output_type": "execute_result"
    },
    {
     "data": {
      "image/png": "[encoded data removed]",
      "text/plain": [
       "<Figure size 432x288 with 1 Axes>"
      ]
     },
     "metadata": {},
     "output_type": "display_data"
    }
   ],
   "source": [
    "df.loc[df['KT'] == 'B'].groupby('KQXT')['KT'].agg(['count']).plot.pie(subplots=True,autopct='%.2f %%')"
   ]
  },
  {
   "cell_type": "code",
   "execution_count": 305,
   "metadata": {},
   "outputs": [
    {
     "data": {
      "text/plain": [
       "array([<AxesSubplot:ylabel='count'>], dtype=object)"
      ]
     },
     "execution_count": 305,
     "metadata": {},
     "output_type": "execute_result"
    },
    {
     "data": {
      "image/png": "[encoded data removed]",
      "text/plain": [
       "<Figure size 432x288 with 1 Axes>"
      ]
     },
     "metadata": {},
     "output_type": "display_data"
    }
   ],
   "source": [
    "df.loc[df['KT'] == 'C'].groupby('KQXT')['KT'].agg(['count']).plot.pie(subplots=True,autopct='%.2f %%')"
   ]
  },
  {
   "cell_type": "code",
   "execution_count": 306,
   "metadata": {},
   "outputs": [
    {
     "data": {
      "text/plain": [
       "array([<AxesSubplot:ylabel='count'>], dtype=object)"
      ]
     },
     "execution_count": 306,
     "metadata": {},
     "output_type": "execute_result"
    },
    {
     "data": {
      "image/png": "[encoded data removed]",
      "text/plain": [
       "<Figure size 432x288 with 1 Axes>"
      ]
     },
     "metadata": {},
     "output_type": "display_data"
    }
   ],
   "source": [
    "df.loc[df['KT'] == 'D1'].groupby('KQXT')['KT'].agg(['count']).plot.pie(subplots=True,autopct='%.2f %%')"
   ]
  },
  {
   "cell_type": "code",
   "execution_count": 307,
   "metadata": {},
   "outputs": [
    {
     "data": {
      "text/plain": [
       "<matplotlib.legend.Legend at 0x1f9f0178670>"
      ]
     },
     "execution_count": 307,
     "metadata": {},
     "output_type": "execute_result"
    },
    {
     "data": {
      "image/png": "[encoded data removed]",
      "text/plain": [
       "<Figure size 432x288 with 1 Axes>"
      ]
     },
     "metadata": {},
     "output_type": "display_data"
    }
   ],
   "source": [
    "df.loc[df['KV'] == '1'].groupby('KQXT')['KV'].agg('count').plot.pie(subplots=True,autopct='%.2f %%')\n",
    "plt.legend()"
   ]
  },
  {
   "cell_type": "code",
   "execution_count": 308,
   "metadata": {},
   "outputs": [
    {
     "data": {
      "text/plain": [
       "array([<AxesSubplot:ylabel='count'>], dtype=object)"
      ]
     },
     "execution_count": 308,
     "metadata": {},
     "output_type": "execute_result"
    },
    {
     "data": {
      "image/png": "[encoded data removed]",
      "text/plain": [
       "<Figure size 432x288 with 1 Axes>"
      ]
     },
     "metadata": {},
     "output_type": "display_data"
    }
   ],
   "source": [
    "df.loc[df['KV'] == '2'].groupby('KQXT')['KV'].agg(['count']).plot.pie(subplots=True,autopct='%.2f %%')"
   ]
  },
  {
   "cell_type": "code",
   "execution_count": 309,
   "metadata": {},
   "outputs": [
    {
     "data": {
      "text/plain": [
       "array([<AxesSubplot:ylabel='count'>], dtype=object)"
      ]
     },
     "execution_count": 309,
     "metadata": {},
     "output_type": "execute_result"
    },
    {
     "data": {
      "image/png": "[encoded data removed]",
      "text/plain": [
       "<Figure size 432x288 with 1 Axes>"
      ]
     },
     "metadata": {},
     "output_type": "display_data"
    }
   ],
   "source": [
    "df.loc[df['KV'] == '2NT'].groupby('KQXT')['KV'].agg(['count']).plot.pie(subplots=True,autopct='%.2f %%')"
   ]
  },
  {
   "cell_type": "code",
   "execution_count": 310,
   "metadata": {},
   "outputs": [
    {
     "data": {
      "text/plain": [
       "array([<AxesSubplot:ylabel='count'>], dtype=object)"
      ]
     },
     "execution_count": 310,
     "metadata": {},
     "output_type": "execute_result"
    },
    {
     "data": {
      "image/png": "[encoded data removed]",
      "text/plain": [
       "<Figure size 432x288 with 1 Axes>"
      ]
     },
     "metadata": {},
     "output_type": "display_data"
    }
   ],
   "source": [
    "df.loc[df['DT'] == 1].groupby('KQXT')['DT'].agg(['count']).plot.pie(subplots=True,autopct='%.2f %%')"
   ]
  },
  {
   "cell_type": "code",
   "execution_count": 311,
   "metadata": {},
   "outputs": [
    {
     "data": {
      "text/plain": [
       "array([<AxesSubplot:ylabel='count'>], dtype=object)"
      ]
     },
     "execution_count": 311,
     "metadata": {},
     "output_type": "execute_result"
    },
    {
     "data": {
      "image/png": "[encoded data removed]",
      "text/plain": [
       "<Figure size 432x288 with 1 Axes>"
      ]
     },
     "metadata": {},
     "output_type": "display_data"
    }
   ],
   "source": [
    "df.loc[df['DT'] == 6].groupby('KQXT')['DT'].agg(['count']).plot.pie(subplots=True,autopct='%.2f %%')"
   ]
  },
  {
   "cell_type": "code",
   "execution_count": 312,
   "metadata": {},
   "outputs": [
    {
     "data": {
      "text/plain": [
       "array([<AxesSubplot:ylabel='count'>], dtype=object)"
      ]
     },
     "execution_count": 312,
     "metadata": {},
     "output_type": "execute_result"
    },
    {
     "data": {
      "image/png": "[encoded data removed]",
      "text/plain": [
       "<Figure size 432x288 with 1 Axes>"
      ]
     },
     "metadata": {},
     "output_type": "display_data"
    }
   ],
   "source": [
    "df.loc[df['GT'] == 'F'].groupby('KQXT')['GT'].agg(['count']).plot.pie(subplots=True,autopct='%.2f %%')"
   ]
  },
  {
   "cell_type": "code",
   "execution_count": 313,
   "metadata": {},
   "outputs": [
    {
     "data": {
      "text/plain": [
       "<AxesSubplot:xlabel='T1'>"
      ]
     },
     "execution_count": 313,
     "metadata": {},
     "output_type": "execute_result"
    },
    {
     "data": {
      "image/png": "[encoded data removed]",
      "text/plain": [
       "<Figure size 432x288 with 1 Axes>"
      ]
     },
     "metadata": {
      "needs_background": "light"
     },
     "output_type": "display_data"
    }
   ],
   "source": [
    "#phần 4\n",
    "#1. Vẽ biểu đồ đường Simple cho biến T1\n",
    "#2. Hãy tạo biến phân loại (phanlopt1) cho môn toán (T1) như sau:\n",
    "#a. Từ 0 đến dưới 5 = kém (ký hiệu ―k‖)\n",
    "#b. Từ 5 đến dưới 7 = trung bình (ký hiệu ―tb‖)\n",
    "#c. Từ 7 đến dưới 8 = khá (ký hiệu ―k‖)\n",
    "#d. Từ 8 trở lên = giỏi (ký hiệu ―g‖)\n",
    "#3. Lập bảng tần số cho biến phanloait1\n",
    "#4. Vẽ biểu đồ đường Multiple Line cho biến T1 được phân loại bởi biến phanlopt1\n",
    "#5. Vẽ biểu đồ Drop-line cho biến T1 được phân loại bởi biến phanlopt1\n",
    "df.groupby('T1')['T1'].agg('count').plot()"
   ]
  },
  {
   "cell_type": "code",
   "execution_count": 314,
   "metadata": {},
   "outputs": [],
   "source": [
    "for i in df['T1']:\n",
    "  df.loc[(df['T1'] >= 0) & (df['T1'] < 5), 'phanlopt1'] = 'kem'\n",
    "  df.loc[(df['T1'] >= 5) & (df['T1'] < 7), 'phanlopt1'] = 'tb'\n",
    "  df.loc[(df['T1'] >= 7) & (df['T1'] < 8), 'phanlopt1'] = 'kha'\n",
    "  df.loc[(df['T1'] >= 8), 'phanlopt1'] = 'gioi'"
   ]
  },
  {
   "cell_type": "code",
   "execution_count": 315,
   "metadata": {},
   "outputs": [
    {
     "data": {
      "text/html": [
       "<div>\n",
       "<style scoped>\n",
       "    .dataframe tbody tr th:only-of-type {\n",
       "        vertical-align: middle;\n",
       "    }\n",
       "\n",
       "    .dataframe tbody tr th {\n",
       "        vertical-align: top;\n",
       "    }\n",
       "\n",
       "    .dataframe thead th {\n",
       "        text-align: right;\n",
       "    }\n",
       "</style>\n",
       "<table border=\"1\" class=\"dataframe\">\n",
       "  <thead>\n",
       "    <tr style=\"text-align: right;\">\n",
       "      <th></th>\n",
       "      <th>Unnamed: 0</th>\n",
       "      <th>STT</th>\n",
       "      <th>T1</th>\n",
       "      <th>L1</th>\n",
       "      <th>H1</th>\n",
       "      <th>S1</th>\n",
       "      <th>V1</th>\n",
       "      <th>X1</th>\n",
       "      <th>D1</th>\n",
       "      <th>N1</th>\n",
       "      <th>...</th>\n",
       "      <th>TBM2</th>\n",
       "      <th>TBM3</th>\n",
       "      <th>XL1</th>\n",
       "      <th>XL2</th>\n",
       "      <th>XL3</th>\n",
       "      <th>US_TBM1</th>\n",
       "      <th>US_TBM2</th>\n",
       "      <th>US_TBM3</th>\n",
       "      <th>KQXT</th>\n",
       "      <th>phanlopt1</th>\n",
       "    </tr>\n",
       "  </thead>\n",
       "  <tbody>\n",
       "    <tr>\n",
       "      <th>0</th>\n",
       "      <td>0</td>\n",
       "      <td>1</td>\n",
       "      <td>7.2</td>\n",
       "      <td>7.3</td>\n",
       "      <td>6.3</td>\n",
       "      <td>7.3</td>\n",
       "      <td>7.0</td>\n",
       "      <td>7.9</td>\n",
       "      <td>7.3</td>\n",
       "      <td>5.5</td>\n",
       "      <td>...</td>\n",
       "      <td>7.54</td>\n",
       "      <td>7.01</td>\n",
       "      <td>K</td>\n",
       "      <td>K</td>\n",
       "      <td>K</td>\n",
       "      <td>2.800</td>\n",
       "      <td>3.016</td>\n",
       "      <td>2.804</td>\n",
       "      <td>0.0</td>\n",
       "      <td>kha</td>\n",
       "    </tr>\n",
       "    <tr>\n",
       "      <th>1</th>\n",
       "      <td>1</td>\n",
       "      <td>2</td>\n",
       "      <td>5.4</td>\n",
       "      <td>3.9</td>\n",
       "      <td>3.9</td>\n",
       "      <td>4.0</td>\n",
       "      <td>5.4</td>\n",
       "      <td>5.4</td>\n",
       "      <td>5.3</td>\n",
       "      <td>2.8</td>\n",
       "      <td>...</td>\n",
       "      <td>5.47</td>\n",
       "      <td>5.07</td>\n",
       "      <td>Y</td>\n",
       "      <td>TB</td>\n",
       "      <td>TB</td>\n",
       "      <td>1.876</td>\n",
       "      <td>2.188</td>\n",
       "      <td>2.028</td>\n",
       "      <td>0.0</td>\n",
       "      <td>tb</td>\n",
       "    </tr>\n",
       "    <tr>\n",
       "      <th>2</th>\n",
       "      <td>2</td>\n",
       "      <td>3</td>\n",
       "      <td>5.6</td>\n",
       "      <td>6.8</td>\n",
       "      <td>7.2</td>\n",
       "      <td>7.5</td>\n",
       "      <td>4.3</td>\n",
       "      <td>7.4</td>\n",
       "      <td>5.8</td>\n",
       "      <td>3.2</td>\n",
       "      <td>...</td>\n",
       "      <td>5.38</td>\n",
       "      <td>6.04</td>\n",
       "      <td>TB</td>\n",
       "      <td>TB</td>\n",
       "      <td>TB</td>\n",
       "      <td>2.308</td>\n",
       "      <td>2.152</td>\n",
       "      <td>2.416</td>\n",
       "      <td>1.0</td>\n",
       "      <td>tb</td>\n",
       "    </tr>\n",
       "    <tr>\n",
       "      <th>3</th>\n",
       "      <td>3</td>\n",
       "      <td>4</td>\n",
       "      <td>6.6</td>\n",
       "      <td>6.4</td>\n",
       "      <td>5.3</td>\n",
       "      <td>6.9</td>\n",
       "      <td>5.4</td>\n",
       "      <td>7.3</td>\n",
       "      <td>6.4</td>\n",
       "      <td>5.8</td>\n",
       "      <td>...</td>\n",
       "      <td>5.20</td>\n",
       "      <td>6.88</td>\n",
       "      <td>TB</td>\n",
       "      <td>TB</td>\n",
       "      <td>K</td>\n",
       "      <td>2.484</td>\n",
       "      <td>2.080</td>\n",
       "      <td>2.752</td>\n",
       "      <td>0.0</td>\n",
       "      <td>tb</td>\n",
       "    </tr>\n",
       "    <tr>\n",
       "      <th>4</th>\n",
       "      <td>4</td>\n",
       "      <td>5</td>\n",
       "      <td>6.0</td>\n",
       "      <td>5.0</td>\n",
       "      <td>6.0</td>\n",
       "      <td>7.3</td>\n",
       "      <td>6.5</td>\n",
       "      <td>7.7</td>\n",
       "      <td>7.9</td>\n",
       "      <td>6.1</td>\n",
       "      <td>...</td>\n",
       "      <td>6.36</td>\n",
       "      <td>6.99</td>\n",
       "      <td>K</td>\n",
       "      <td>TB</td>\n",
       "      <td>K</td>\n",
       "      <td>2.600</td>\n",
       "      <td>2.544</td>\n",
       "      <td>2.796</td>\n",
       "      <td>0.0</td>\n",
       "      <td>tb</td>\n",
       "    </tr>\n",
       "    <tr>\n",
       "      <th>...</th>\n",
       "      <td>...</td>\n",
       "      <td>...</td>\n",
       "      <td>...</td>\n",
       "      <td>...</td>\n",
       "      <td>...</td>\n",
       "      <td>...</td>\n",
       "      <td>...</td>\n",
       "      <td>...</td>\n",
       "      <td>...</td>\n",
       "      <td>...</td>\n",
       "      <td>...</td>\n",
       "      <td>...</td>\n",
       "      <td>...</td>\n",
       "      <td>...</td>\n",
       "      <td>...</td>\n",
       "      <td>...</td>\n",
       "      <td>...</td>\n",
       "      <td>...</td>\n",
       "      <td>...</td>\n",
       "      <td>...</td>\n",
       "      <td>...</td>\n",
       "    </tr>\n",
       "    <tr>\n",
       "      <th>95</th>\n",
       "      <td>95</td>\n",
       "      <td>96</td>\n",
       "      <td>8.6</td>\n",
       "      <td>6.9</td>\n",
       "      <td>7.4</td>\n",
       "      <td>8.8</td>\n",
       "      <td>7.6</td>\n",
       "      <td>5.8</td>\n",
       "      <td>7.3</td>\n",
       "      <td>5.7</td>\n",
       "      <td>...</td>\n",
       "      <td>7.42</td>\n",
       "      <td>6.83</td>\n",
       "      <td>K</td>\n",
       "      <td>K</td>\n",
       "      <td>K</td>\n",
       "      <td>2.972</td>\n",
       "      <td>2.968</td>\n",
       "      <td>2.732</td>\n",
       "      <td>0.0</td>\n",
       "      <td>gioi</td>\n",
       "    </tr>\n",
       "    <tr>\n",
       "      <th>96</th>\n",
       "      <td>96</td>\n",
       "      <td>97</td>\n",
       "      <td>3.7</td>\n",
       "      <td>5.4</td>\n",
       "      <td>6.0</td>\n",
       "      <td>5.1</td>\n",
       "      <td>5.5</td>\n",
       "      <td>3.9</td>\n",
       "      <td>6.1</td>\n",
       "      <td>4.4</td>\n",
       "      <td>...</td>\n",
       "      <td>5.15</td>\n",
       "      <td>6.39</td>\n",
       "      <td>Y</td>\n",
       "      <td>TB</td>\n",
       "      <td>TB</td>\n",
       "      <td>1.972</td>\n",
       "      <td>2.060</td>\n",
       "      <td>2.556</td>\n",
       "      <td>0.0</td>\n",
       "      <td>kem</td>\n",
       "    </tr>\n",
       "    <tr>\n",
       "      <th>97</th>\n",
       "      <td>97</td>\n",
       "      <td>98</td>\n",
       "      <td>8.8</td>\n",
       "      <td>5.5</td>\n",
       "      <td>7.4</td>\n",
       "      <td>7.7</td>\n",
       "      <td>6.2</td>\n",
       "      <td>7.3</td>\n",
       "      <td>8.1</td>\n",
       "      <td>4.5</td>\n",
       "      <td>...</td>\n",
       "      <td>7.84</td>\n",
       "      <td>7.67</td>\n",
       "      <td>K</td>\n",
       "      <td>K</td>\n",
       "      <td>K</td>\n",
       "      <td>2.820</td>\n",
       "      <td>3.136</td>\n",
       "      <td>3.068</td>\n",
       "      <td>1.0</td>\n",
       "      <td>gioi</td>\n",
       "    </tr>\n",
       "    <tr>\n",
       "      <th>98</th>\n",
       "      <td>98</td>\n",
       "      <td>99</td>\n",
       "      <td>2.7</td>\n",
       "      <td>1.8</td>\n",
       "      <td>3.4</td>\n",
       "      <td>5.3</td>\n",
       "      <td>4.5</td>\n",
       "      <td>7.9</td>\n",
       "      <td>4.9</td>\n",
       "      <td>3.8</td>\n",
       "      <td>...</td>\n",
       "      <td>4.72</td>\n",
       "      <td>5.29</td>\n",
       "      <td>Y</td>\n",
       "      <td>Y</td>\n",
       "      <td>TB</td>\n",
       "      <td>1.660</td>\n",
       "      <td>1.888</td>\n",
       "      <td>2.116</td>\n",
       "      <td>0.0</td>\n",
       "      <td>kem</td>\n",
       "    </tr>\n",
       "    <tr>\n",
       "      <th>99</th>\n",
       "      <td>99</td>\n",
       "      <td>100</td>\n",
       "      <td>4.1</td>\n",
       "      <td>5.2</td>\n",
       "      <td>4.9</td>\n",
       "      <td>5.3</td>\n",
       "      <td>5.5</td>\n",
       "      <td>5.4</td>\n",
       "      <td>7.2</td>\n",
       "      <td>5.4</td>\n",
       "      <td>...</td>\n",
       "      <td>5.72</td>\n",
       "      <td>5.85</td>\n",
       "      <td>TB</td>\n",
       "      <td>TB</td>\n",
       "      <td>TB</td>\n",
       "      <td>2.104</td>\n",
       "      <td>2.288</td>\n",
       "      <td>2.340</td>\n",
       "      <td>0.0</td>\n",
       "      <td>kem</td>\n",
       "    </tr>\n",
       "  </tbody>\n",
       "</table>\n",
       "<p>100 rows × 68 columns</p>\n",
       "</div>"
      ],
      "text/plain": [
       "    Unnamed: 0  STT   T1   L1   H1   S1   V1   X1   D1   N1  ...  TBM2  TBM3  \\\n",
       "0            0    1  7.2  7.3  6.3  7.3  7.0  7.9  7.3  5.5  ...  7.54  7.01   \n",
       "1            1    2  5.4  3.9  3.9  4.0  5.4  5.4  5.3  2.8  ...  5.47  5.07   \n",
       "2            2    3  5.6  6.8  7.2  7.5  4.3  7.4  5.8  3.2  ...  5.38  6.04   \n",
       "3            3    4  6.6  6.4  5.3  6.9  5.4  7.3  6.4  5.8  ...  5.20  6.88   \n",
       "4            4    5  6.0  5.0  6.0  7.3  6.5  7.7  7.9  6.1  ...  6.36  6.99   \n",
       "..         ...  ...  ...  ...  ...  ...  ...  ...  ...  ...  ...   ...   ...   \n",
       "95          95   96  8.6  6.9  7.4  8.8  7.6  5.8  7.3  5.7  ...  7.42  6.83   \n",
       "96          96   97  3.7  5.4  6.0  5.1  5.5  3.9  6.1  4.4  ...  5.15  6.39   \n",
       "97          97   98  8.8  5.5  7.4  7.7  6.2  7.3  8.1  4.5  ...  7.84  7.67   \n",
       "98          98   99  2.7  1.8  3.4  5.3  4.5  7.9  4.9  3.8  ...  4.72  5.29   \n",
       "99          99  100  4.1  5.2  4.9  5.3  5.5  5.4  7.2  5.4  ...  5.72  5.85   \n",
       "\n",
       "    XL1  XL2  XL3  US_TBM1  US_TBM2  US_TBM3  KQXT  phanlopt1  \n",
       "0     K    K    K    2.800    3.016    2.804   0.0        kha  \n",
       "1     Y   TB   TB    1.876    2.188    2.028   0.0         tb  \n",
       "2    TB   TB   TB    2.308    2.152    2.416   1.0         tb  \n",
       "3    TB   TB    K    2.484    2.080    2.752   0.0         tb  \n",
       "4     K   TB    K    2.600    2.544    2.796   0.0         tb  \n",
       "..  ...  ...  ...      ...      ...      ...   ...        ...  \n",
       "95    K    K    K    2.972    2.968    2.732   0.0       gioi  \n",
       "96    Y   TB   TB    1.972    2.060    2.556   0.0        kem  \n",
       "97    K    K    K    2.820    3.136    3.068   1.0       gioi  \n",
       "98    Y    Y   TB    1.660    1.888    2.116   0.0        kem  \n",
       "99   TB   TB   TB    2.104    2.288    2.340   0.0        kem  \n",
       "\n",
       "[100 rows x 68 columns]"
      ]
     },
     "execution_count": 315,
     "metadata": {},
     "output_type": "execute_result"
    }
   ],
   "source": [
    "df"
   ]
  },
  {
   "cell_type": "code",
   "execution_count": 316,
   "metadata": {},
   "outputs": [
    {
     "name": "stdout",
     "output_type": "stream",
     "text": [
      "               T1  phanlopt1\n",
      "T1  phanlopt1               \n",
      "2.4 kem         1          1\n",
      "2.5 kem         1          1\n",
      "2.6 kem         1          1\n",
      "2.7 kem         1          1\n",
      "2.8 kem         1          1\n",
      "3.0 kem         2          2\n",
      "3.4 kem         1          1\n",
      "3.6 kem         2          2\n",
      "3.7 kem         1          1\n",
      "3.9 kem         1          1\n",
      "4.1 kem         1          1\n",
      "4.2 kem         1          1\n",
      "4.3 kem         1          1\n",
      "4.4 kem         1          1\n",
      "4.5 kem         1          1\n",
      "4.6 kem         1          1\n",
      "4.7 kem         1          1\n",
      "4.8 kem         1          1\n",
      "4.9 kem         3          3\n",
      "5.0 tb          3          3\n",
      "5.1 tb          2          2\n",
      "5.2 tb          5          5\n",
      "5.3 tb          5          5\n",
      "5.4 tb          3          3\n",
      "5.5 tb          3          3\n",
      "5.6 tb          2          2\n",
      "5.7 tb          2          2\n",
      "5.8 tb          2          2\n",
      "5.9 tb          1          1\n",
      "6.0 tb          4          4\n",
      "6.1 tb          1          1\n",
      "6.2 tb          1          1\n",
      "6.3 tb          3          3\n",
      "6.4 tb          2          2\n",
      "6.5 tb          3          3\n",
      "6.6 tb          2          2\n",
      "6.7 tb          1          1\n",
      "6.9 tb          1          1\n",
      "7.0 kha         1          1\n",
      "7.1 kha         2          2\n",
      "7.2 kha         4          4\n",
      "7.3 kha         5          5\n",
      "7.5 kha         1          1\n",
      "7.6 kha         1          1\n",
      "7.8 kha         1          1\n",
      "7.9 kha         4          4\n",
      "8.1 gioi        2          2\n",
      "8.2 gioi        3          3\n",
      "8.3 gioi        2          2\n",
      "8.4 gioi        1          1\n",
      "8.6 gioi        1          1\n",
      "8.8 gioi        2          2\n",
      "9.3 gioi        1          1\n"
     ]
    },
    {
     "data": {
      "text/plain": [
       "<AxesSubplot:xlabel='T1', ylabel='Count'>"
      ]
     },
     "execution_count": 316,
     "metadata": {},
     "output_type": "execute_result"
    },
    {
     "data": {
      "image/png": "[encoded data removed]",
      "text/plain": [
       "<Figure size 432x288 with 1 Axes>"
      ]
     },
     "metadata": {
      "needs_background": "light"
     },
     "output_type": "display_data"
    }
   ],
   "source": [
    "phanloait1 = df.groupby(['T1','phanlopt1'])[['T1','phanlopt1']].count()\n",
    "print(phanloait1)\n",
    "unstackphanlopt1=phanloait1.unstack()\n",
    "unstackphanlopt1['phanlopt1'].plot(ylabel='Count')"
   ]
  },
  {
   "cell_type": "code",
   "execution_count": 317,
   "metadata": {},
   "outputs": [
    {
     "data": {
      "text/plain": [
       "<AxesSubplot:xlabel='T1'>"
      ]
     },
     "execution_count": 317,
     "metadata": {},
     "output_type": "execute_result"
    },
    {
     "data": {
      "image/png": "[encoded data removed]",
      "text/plain": [
       "<Figure size 432x288 with 1 Axes>"
      ]
     },
     "metadata": {
      "needs_background": "light"
     },
     "output_type": "display_data"
    }
   ],
   "source": [
    "unstackphanlopt1['phanlopt1'].plot.bar()"
   ]
  },
  {
   "cell_type": "code",
   "execution_count": 318,
   "metadata": {},
   "outputs": [
    {
     "data": {
      "text/plain": [
       "<AxesSubplot:>"
      ]
     },
     "execution_count": 318,
     "metadata": {},
     "output_type": "execute_result"
    },
    {
     "data": {
      "image/png": "[encoded data removed]",
      "text/plain": [
       "<Figure size 432x288 with 1 Axes>"
      ]
     },
     "metadata": {
      "needs_background": "light"
     },
     "output_type": "display_data"
    }
   ],
   "source": [
    "#phần 5\n",
    "#1. Hãy mô tả và khảo sát phân phối cho biến T1\n",
    "#2. Hãy mô tả và khảo sát phân phối cho biến T1 trên từng nhóm phân lớp (phanlopT1)\n",
    "#3. Hãy khảo sát tương quan giữa biến DH1 theo biến T1\n",
    "#4. Hãy khảo sát tương quan giữa biến DH1 theo biến T1 trên từng nhóm khu vực\n",
    "#5. Hãy khảo sát tương quan giữa các biến DH1, DH2, DH3\n",
    "df['T1'].plot.box()"
   ]
  },
  {
   "cell_type": "code",
   "execution_count": 319,
   "metadata": {},
   "outputs": [
    {
     "data": {
      "text/plain": [
       "Text(0.5, 0, 'T1')"
      ]
     },
     "execution_count": 319,
     "metadata": {},
     "output_type": "execute_result"
    },
    {
     "data": {
      "image/png": "[encoded data removed]",
      "text/plain": [
       "<Figure size 432x288 with 1 Axes>"
      ]
     },
     "metadata": {
      "needs_background": "light"
     },
     "output_type": "display_data"
    }
   ],
   "source": [
    "df['T1'].plot.hist()\n",
    "plt.xlabel('T1')"
   ]
  },
  {
   "cell_type": "code",
   "execution_count": 320,
   "metadata": {},
   "outputs": [
    {
     "data": {
      "text/plain": [
       "<AxesSubplot:>"
      ]
     },
     "execution_count": 320,
     "metadata": {},
     "output_type": "execute_result"
    },
    {
     "data": {
      "image/png": "[encoded data removed]",
      "text/plain": [
       "<Figure size 432x288 with 1 Axes>"
      ]
     },
     "metadata": {
      "needs_background": "light"
     },
     "output_type": "display_data"
    }
   ],
   "source": [
    "df.groupby('phanlopt1')['phanlopt1'].agg(['count']).plot.box()"
   ]
  },
  {
   "cell_type": "code",
   "execution_count": 321,
   "metadata": {},
   "outputs": [
    {
     "data": {
      "text/plain": [
       "<matplotlib.legend.Legend at 0x1f9eecafee0>"
      ]
     },
     "execution_count": 321,
     "metadata": {},
     "output_type": "execute_result"
    },
    {
     "data": {
      "image/png": "[encoded data removed]",
      "text/plain": [
       "<Figure size 432x288 with 1 Axes>"
      ]
     },
     "metadata": {
      "needs_background": "light"
     },
     "output_type": "display_data"
    }
   ],
   "source": [
    "pd.pivot_table(df.groupby('phanlopt1')['phanlopt1'].agg(['count']),columns='phanlopt1').plot.hist()\n",
    "plt.legend()"
   ]
  },
  {
   "cell_type": "code",
   "execution_count": 322,
   "metadata": {},
   "outputs": [
    {
     "data": {
      "image/png": "[encoded data removed]",
      "text/plain": [
       "<Figure size 432x288 with 1 Axes>"
      ]
     },
     "metadata": {
      "needs_background": "light"
     },
     "output_type": "display_data"
    }
   ],
   "source": [
    "sm.qqplot(df.groupby('phanlopt1')['phanlopt1'].agg(['count']), line ='45')\n",
    "plt.show()"
   ]
  },
  {
   "cell_type": "code",
   "execution_count": 323,
   "metadata": {},
   "outputs": [
    {
     "data": {
      "text/plain": [
       "<AxesSubplot:xlabel='DH1', ylabel='T1'>"
      ]
     },
     "execution_count": 323,
     "metadata": {},
     "output_type": "execute_result"
    },
    {
     "data": {
      "image/png": "[encoded data removed]",
      "text/plain": [
       "<Figure size 432x288 with 1 Axes>"
      ]
     },
     "metadata": {
      "needs_background": "light"
     },
     "output_type": "display_data"
    }
   ],
   "source": [
    "df.plot.scatter(x='DH1',y='T1')"
   ]
  },
  {
   "cell_type": "code",
   "execution_count": 324,
   "metadata": {},
   "outputs": [
    {
     "data": {
      "text/plain": [
       "<AxesSubplot:xlabel='DH1', ylabel='T1'>"
      ]
     },
     "execution_count": 324,
     "metadata": {},
     "output_type": "execute_result"
    },
    {
     "data": {
      "image/png": "[encoded data removed]",
      "text/plain": [
       "<Figure size 432x288 with 1 Axes>"
      ]
     },
     "metadata": {
      "needs_background": "light"
     },
     "output_type": "display_data"
    }
   ],
   "source": [
    "df.loc[df['KV'] == '1'].plot.scatter(x='DH1',y='T1')"
   ]
  },
  {
   "cell_type": "code",
   "execution_count": 325,
   "metadata": {},
   "outputs": [
    {
     "data": {
      "text/plain": [
       "<AxesSubplot:xlabel='DH1', ylabel='T1'>"
      ]
     },
     "execution_count": 325,
     "metadata": {},
     "output_type": "execute_result"
    },
    {
     "data": {
      "image/png": "[encoded data removed]",
      "text/plain": [
       "<Figure size 432x288 with 1 Axes>"
      ]
     },
     "metadata": {
      "needs_background": "light"
     },
     "output_type": "display_data"
    }
   ],
   "source": [
    "df.loc[df['KV'] == '2'].plot.scatter(x='DH1',y='T1')"
   ]
  },
  {
   "cell_type": "code",
   "execution_count": 326,
   "metadata": {},
   "outputs": [
    {
     "data": {
      "text/plain": [
       "<AxesSubplot:xlabel='DH1', ylabel='T1'>"
      ]
     },
     "execution_count": 326,
     "metadata": {},
     "output_type": "execute_result"
    },
    {
     "data": {
      "image/png": "[encoded data removed]",
      "text/plain": [
       "<Figure size 432x288 with 1 Axes>"
      ]
     },
     "metadata": {
      "needs_background": "light"
     },
     "output_type": "display_data"
    }
   ],
   "source": [
    "df.loc[df['KV'] == '2NT'].plot.scatter(x='DH1',y='T1')"
   ]
  },
  {
   "cell_type": "code",
   "execution_count": 327,
   "metadata": {},
   "outputs": [
    {
     "data": {
      "text/plain": [
       "<AxesSubplot:xlabel='DH1', ylabel='DH3'>"
      ]
     },
     "execution_count": 327,
     "metadata": {},
     "output_type": "execute_result"
    },
    {
     "data": {
      "image/png": "[encoded data removed]",
      "text/plain": [
       "<Figure size 432x288 with 1 Axes>"
      ]
     },
     "metadata": {
      "needs_background": "light"
     },
     "output_type": "display_data"
    }
   ],
   "source": [
    "df.plot.scatter(x='DH1',y='DH3')"
   ]
  },
  {
   "cell_type": "code",
   "execution_count": 328,
   "metadata": {},
   "outputs": [
    {
     "data": {
      "text/plain": [
       "<AxesSubplot:xlabel='DH2', ylabel='DH3'>"
      ]
     },
     "execution_count": 328,
     "metadata": {},
     "output_type": "execute_result"
    },
    {
     "data": {
      "image/png": "[encoded data removed]",
      "text/plain": [
       "<Figure size 432x288 with 1 Axes>"
      ]
     },
     "metadata": {
      "needs_background": "light"
     },
     "output_type": "display_data"
    }
   ],
   "source": [
    "df.plot.scatter(x='DH2',y='DH3')"
   ]
  }
 ],
 "metadata": {
  "colab": {
   "collapsed_sections": [],
   "name": "Untitled0.ipynb",
   "provenance": []
  },
  "kernelspec": {
   "display_name": "Python 3 (ipykernel)",
   "language": "python",
   "name": "python3"
  },
  "language_info": {
   "codemirror_mode": {
    "name": "ipython",
    "version": 3
   },
   "file_extension": ".py",
   "mimetype": "text/x-python",
   "name": "python",
   "nbconvert_exporter": "python",
   "pygments_lexer": "ipython3",
   "version": "3.9.6"
  }
 },
 "nbformat": 4,
 "nbformat_minor": 1
}
